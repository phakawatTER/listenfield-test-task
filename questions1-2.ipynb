{
 "cells": [
  {
   "cell_type": "code",
   "execution_count": 43,
   "metadata": {},
   "outputs": [],
   "source": [
    "import pandas as pd\n",
    "import os\n",
    "import re\n",
    "import time\n",
    "from scipy.fftpack import fft,ifft\n",
    "import matplotlib.pyplot as plt"
   ]
  },
  {
   "cell_type": "markdown",
   "metadata": {},
   "source": [
    "# Question 1"
   ]
  },
  {
   "cell_type": "markdown",
   "metadata": {},
   "source": [
    "## 1.A Load data into memory"
   ]
  },
  {
   "cell_type": "code",
   "execution_count": 44,
   "metadata": {},
   "outputs": [
    {
     "data": {
      "text/html": [
       "<div>\n",
       "<style scoped>\n",
       "    .dataframe tbody tr th:only-of-type {\n",
       "        vertical-align: middle;\n",
       "    }\n",
       "\n",
       "    .dataframe tbody tr th {\n",
       "        vertical-align: top;\n",
       "    }\n",
       "\n",
       "    .dataframe thead th {\n",
       "        text-align: right;\n",
       "    }\n",
       "</style>\n",
       "<table border=\"1\" class=\"dataframe\">\n",
       "  <thead>\n",
       "    <tr style=\"text-align: right;\">\n",
       "      <th></th>\n",
       "      <th>DATE</th>\n",
       "      <th>SRAD</th>\n",
       "      <th>TMAX</th>\n",
       "      <th>TMIN</th>\n",
       "      <th>RAIN</th>\n",
       "      <th>TAVE</th>\n",
       "    </tr>\n",
       "  </thead>\n",
       "  <tbody>\n",
       "    <tr>\n",
       "      <th>0</th>\n",
       "      <td>1988001.0</td>\n",
       "      <td>-99.0</td>\n",
       "      <td>30.5</td>\n",
       "      <td>23.0</td>\n",
       "      <td>0.0</td>\n",
       "      <td>26.8</td>\n",
       "    </tr>\n",
       "    <tr>\n",
       "      <th>1</th>\n",
       "      <td>1988002.0</td>\n",
       "      <td>-99.0</td>\n",
       "      <td>31.6</td>\n",
       "      <td>23.3</td>\n",
       "      <td>0.0</td>\n",
       "      <td>27.5</td>\n",
       "    </tr>\n",
       "    <tr>\n",
       "      <th>2</th>\n",
       "      <td>1988003.0</td>\n",
       "      <td>-99.0</td>\n",
       "      <td>30.6</td>\n",
       "      <td>23.2</td>\n",
       "      <td>7.7</td>\n",
       "      <td>26.9</td>\n",
       "    </tr>\n",
       "    <tr>\n",
       "      <th>3</th>\n",
       "      <td>1988004.0</td>\n",
       "      <td>-99.0</td>\n",
       "      <td>31.6</td>\n",
       "      <td>23.5</td>\n",
       "      <td>0.9</td>\n",
       "      <td>27.6</td>\n",
       "    </tr>\n",
       "    <tr>\n",
       "      <th>4</th>\n",
       "      <td>1988005.0</td>\n",
       "      <td>-99.0</td>\n",
       "      <td>30.7</td>\n",
       "      <td>20.1</td>\n",
       "      <td>0.3</td>\n",
       "      <td>25.4</td>\n",
       "    </tr>\n",
       "  </tbody>\n",
       "</table>\n",
       "</div>"
      ],
      "text/plain": [
       "        DATE  SRAD  TMAX  TMIN  RAIN  TAVE\n",
       "0  1988001.0 -99.0  30.5  23.0   0.0  26.8\n",
       "1  1988002.0 -99.0  31.6  23.3   0.0  27.5\n",
       "2  1988003.0 -99.0  30.6  23.2   7.7  26.9\n",
       "3  1988004.0 -99.0  31.6  23.5   0.9  27.6\n",
       "4  1988005.0 -99.0  30.7  20.1   0.3  25.4"
      ]
     },
     "execution_count": 44,
     "metadata": {},
     "output_type": "execute_result"
    }
   ],
   "source": [
    "\n",
    "\"\"\"\n",
    "QUESTION 1\n",
    "\"\"\"\n",
    "\"\"\" 1.A TODO:load data into memory \"\"\"\n",
    "df = (pd.read_csv(dataset_path))\n",
    "default_column = str(df.columns[0])\n",
    "columns = default_column.split(\" \")\n",
    "columns = [col for col in columns if col not in [\"\",\"@\"]]\n",
    "df[columns]= (df[default_column].str.split(\" +\",expand=True))\n",
    "df[columns] = df[columns].astype(float)\n",
    "del df[default_column]\n",
    "df.head()\n"
   ]
  },
  {
   "cell_type": "markdown",
   "metadata": {},
   "source": [
    "## 1.B Do you notice some strange pattern or unexpected behavior in the data ?"
   ]
  },
  {
   "cell_type": "raw",
   "metadata": {},
   "source": [
    "Ans.\n",
    "    1.All of SRAD values are -99.0\n",
    "    2.There are 74 rows of the records that all columns are filled with -99.0\n"
   ]
  },
  {
   "cell_type": "markdown",
   "metadata": {},
   "source": [
    "## 1.C Calculate correlation matrix"
   ]
  },
  {
   "cell_type": "code",
   "execution_count": 45,
   "metadata": {},
   "outputs": [
    {
     "name": "stdout",
     "output_type": "stream",
     "text": [
      "Correlarion Matrix\n",
      "      SRAD      TMAX      TMIN      RAIN      TAVE\n",
      "SRAD   NaN       NaN       NaN       NaN       NaN\n",
      "TMAX   NaN  1.000000  0.577194  0.152349  0.585448\n",
      "TMIN   NaN  0.577194  1.000000  0.116230  0.998361\n",
      "RAIN   NaN  0.152349  0.116230  1.000000  0.095971\n",
      "TAVE   NaN  0.585448  0.998361  0.095971  1.000000\n"
     ]
    }
   ],
   "source": [
    "correlation_matrix = df[columns[1:]].corr()\n",
    "print(\"Correlarion Matrix\")\n",
    "print(correlation_matrix) # Print out correlation matrix"
   ]
  },
  {
   "cell_type": "markdown",
   "metadata": {},
   "source": [
    "## 1.D Plot the Fourier transform of TAVE. Do you notice some patterns ? How can you interpret it?"
   ]
  },
  {
   "cell_type": "code",
   "execution_count": 46,
   "metadata": {},
   "outputs": [
    {
     "name": "stderr",
     "output_type": "stream",
     "text": [
      "/home/bipul/anaconda3/lib/python3.7/site-packages/numpy/core/_asarray.py:85: ComplexWarning: Casting complex values to real discards the imaginary part\n",
      "  return array(a, dtype, copy=False, order=order)\n"
     ]
    },
    {
     "data": {
      "image/png": "[encoded data removed]",
      "text/plain": [
       "<Figure size 432x288 with 1 Axes>"
      ]
     },
     "metadata": {
      "needs_background": "light"
     },
     "output_type": "display_data"
    }
   ],
   "source": [
    "\"\"\"1.D TODO: Plot Fourier Transform of TAVE\"\"\"\n",
    "df_tave = df[\"TAVE\"]\n",
    "y = fft(df_tave.values)\n",
    "plt.plot(y)\n",
    "plt.show()\n",
    "# plt.savefig(os.path.join(\"fig.jpg\"))"
   ]
  },
  {
   "cell_type": "markdown",
   "metadata": {},
   "source": [
    "## 1.E Calculate probability of RAIN (RAIN>0) in 2000"
   ]
  },
  {
   "cell_type": "code",
   "execution_count": 47,
   "metadata": {},
   "outputs": [
    {
     "name": "stdout",
     "output_type": "stream",
     "text": [
      "Probability of RAIN in 2020 is 22.440236686390538 %\n"
     ]
    }
   ],
   "source": [
    "df_2000 = df.loc[\\\n",
    "    (df[\"DATE\"] > 2000000) & \\\n",
    "    (df[\"DATE\"] <= 2000367) & \\\n",
    "    (df[\"RAIN\"] > 0) ]\n",
    "RAIN_PROBABILITY = df_2000[\"RAIN\"].mean()\n",
    "print(\"Probability of RAIN in 2020 is {} %\".format(RAIN_PROBABILITY))"
   ]
  },
  {
   "cell_type": "markdown",
   "metadata": {},
   "source": [
    "## 1.F Calculate the median TMIN for October (calculated based on observations of any year as long as it is in October)"
   ]
  },
  {
   "cell_type": "code",
   "execution_count": 48,
   "metadata": {},
   "outputs": [
    {
     "name": "stdout",
     "output_type": "stream",
     "text": [
      "Median of TMIN in October is 23.5\n"
     ]
    }
   ],
   "source": [
    "\"\"\"1.F TODO: Calculate the median TMIN for October (calculated based on observations of any year as\n",
    "long as it is in October).\"\"\"\n",
    "#1st October is the day 274 of a year\n",
    "df_october = df.loc[\\\n",
    "    (df[\"DATE\"] % 1000 >= 274) &\\\n",
    "    (df[\"DATE\"] % 1000  < 274 + 31)]\n",
    "TMIN_MED = df_october[\"TMIN\"].median()\n",
    "print(\"Median of TMIN in October is {}\".format(TMIN_MED))"
   ]
  },
  {
   "cell_type": "markdown",
   "metadata": {},
   "source": [
    "# Question 2"
   ]
  },
  {
   "cell_type": "markdown",
   "metadata": {},
   "source": [
    "## 2.A Give at least 5 ways to limit overfitting in a neural network (the more ways you find, the better)"
   ]
  },
  {
   "cell_type": "code",
   "execution_count": null,
   "metadata": {},
   "outputs": [],
   "source": []
  },
  {
   "cell_type": "markdown",
   "metadata": {},
   "source": [
    "## 2.B In what case would you use a softmax layer instead of a ReLU layer ?"
   ]
  },
  {
   "cell_type": "raw",
   "metadata": {},
   "source": [
    "Softmax layer are used when we want probability distribution output.That means outputs from this layer are range between 0-1.\n",
    "ReLU are used with convolutional layer to convert feature map negative values to positive values."
   ]
  },
  {
   "cell_type": "markdown",
   "metadata": {},
   "source": [
    "## 2.C What are the advantages and drawbacks of using small batch size during training ?"
   ]
  },
  {
   "cell_type": "raw",
   "metadata": {},
   "source": [
    "The model is generalized well with small batch size "
   ]
  },
  {
   "cell_type": "markdown",
   "metadata": {},
   "source": [
    "## Supposing that you have weather data from a hundred stations (in the same format as in\n",
    "Part 1). How would you tackle the abnormal data ? You can suppose that extreme values are\n",
    "missing. Could you propose a way to fill these missing values using deep learning ? Which\n",
    "kind of layers would you use ?"
   ]
  },
  {
   "cell_type": "code",
   "execution_count": null,
   "metadata": {},
   "outputs": [],
   "source": []
  }
 ],
 "metadata": {
  "kernelspec": {
   "display_name": "Python 3",
   "language": "python",
   "name": "python3"
  },
  "language_info": {
   "codemirror_mode": {
    "name": "ipython",
    "version": 3
   },
   "file_extension": ".py",
   "mimetype": "text/x-python",
   "name": "python",
   "nbconvert_exporter": "python",
   "pygments_lexer": "ipython3",
   "version": "3.7.4"
  }
 },
 "nbformat": 4,
 "nbformat_minor": 4
}
